{
 "cells": [
  {
   "cell_type": "code",
   "execution_count": null,
   "metadata": {},
   "outputs": [],
   "source": [
    "import numpy as np\n",
    "import pandas as pd\n",
    "import matplotlib.pyplot as plt\n",
    "import itertools\n",
    "inputs= pd.read_csv(\"./dataset/inputs.csv\",names=['txid','prev_tx_id','prev_tx_pos'])\n",
    "outputs = pd.read_csv(\"./dataset/outputs.csv\",names=['txid','position','address_id','amount','script_type'])\n",
    "outputs=outputs.astype({\n",
    "    'script_type':'uint8',\n",
    "})\n",
    "transactions = pd.read_csv(\"./dataset/transactions.csv\",names=['timestamp','block_id','txid','is_coinbase','fee'])\n",
    "transactions= transactions.astype({\n",
    "    'is_coinbase':'bool',\n",
    "})\n",
    "map=pd.read_csv(\"./dataset/mapAddr2Ids8708820.csv\",names=['hash','address_id'])\n",
    "map.set_index('address_id')"
   ]
  },
  {
   "attachments": {},
   "cell_type": "markdown",
   "metadata": {},
   "source": [
    "# 2.1 Analisi generali dei dati della blockchain"
   ]
  },
  {
   "attachments": {},
   "cell_type": "markdown",
   "metadata": {},
   "source": [
    "## distribuzione transazioni per blocco\n",
    "distribuzione del numero di transazioni per blocco (occupazione del blocco), nell’intero\n",
    "periodo temporale considerato"
   ]
  },
  {
   "cell_type": "code",
   "execution_count": null,
   "metadata": {},
   "outputs": [],
   "source": [
    "tx_distribution=transactions.groupby(['block_id']).count()[['timestamp']]\n",
    "res=pd.DataFrame(columns=['blocks'])\n",
    "res.index.name='value'\n",
    "for (i,g) in tx_distribution.groupby(['timestamp']):\n",
    "    res.loc[i]=len(g)\n",
    "plt.figure(figsize=(14,5))\n",
    "plt.scatter(np.log(res.index),res['blocks'],s=1)\n",
    "plt.xlabel('numero di transazioni')\n",
    "plt.ylabel('blocchi')\n",
    "\n",
    "#TODO : fix display of data\n"
   ]
  },
  {
   "attachments": {},
   "cell_type": "markdown",
   "metadata": {},
   "source": [
    "## evoluzione dell'occupazione dei blocchi nel tempo\n",
    "evoluzione dell'occupazione dei blocchi nel tempo, considerando intervalli temporali di due\n",
    "mesi.(media dell'occupazione di blocchi su archi temporali di 2 mesi)."
   ]
  },
  {
   "cell_type": "code",
   "execution_count": null,
   "metadata": {},
   "outputs": [],
   "source": [
    "from itertools import pairwise\n",
    "\n",
    "transactions['date']=pd.to_datetime(transactions['timestamp'],unit='s')\n",
    "month_transactions=[]\n",
    "month_group=transactions.groupby([transactions['date'].dt.year,transactions['date'].dt.month])\n",
    "\n",
    "average_tx=pd.DataFrame(columns=['average_tx'])\n",
    "\n",
    "for (k1,k2) in pairwise(month_group.groups.keys()):\n",
    "    months_df=pd.concat([month_group.get_group(k1),month_group.get_group(k2)])\n",
    "    y,m1=k1\n",
    "    _,m2=k2\n",
    "    average_tx.loc[str(y)+'-'+str(m1)+'/'+str(m2)]=months_df.groupby(['block_id']).count()['timestamp'].mean()\n",
    "average_tx.plot(kind='bar',figsize=(14,5))\n",
    "# TODO: fix display of data"
   ]
  },
  {
   "attachments": {},
   "cell_type": "markdown",
   "metadata": {},
   "source": [
    "## ammontare degli ultimi UTXO rimanenti\n",
    "ammontare totale degli UTXO al momento dell’ultima transazione registrata nella\n",
    "blockchain considerata."
   ]
  },
  {
   "cell_type": "code",
   "execution_count": null,
   "metadata": {},
   "outputs": [],
   "source": [
    "spent_utxos=outputs.merge(inputs,how='inner',left_on=['txid','position'],right_on=['prev_tx_id','prev_tx_pos'])\n",
    "unspent_utxos_amount=sum(outputs.amount)-sum(spent_utxos.amount)\n",
    "unspent_utxos_amount"
   ]
  },
  {
   "attachments": {},
   "cell_type": "markdown",
   "metadata": {},
   "source": [
    "## durata media di un UTXO prima di essere speso\n",
    "distribuzione degli intervalli di tempo che intercorrono tra la transazione che genera un\n",
    "valore in output (UTXO) e quella che lo consuma, per gli output spesi nel periodo\n",
    "considerato."
   ]
  },
  {
   "cell_type": "code",
   "execution_count": null,
   "metadata": {},
   "outputs": [],
   "source": [
    "#a=inputs.merge(transactions[['txid','timestamp']],left_on='prev_tx_id',right_on='txid')\n",
    "#a=a.merge(transactions[['txid','timestamp']],left_on='txid_x',right_on='txid')[['prev_tx_id','timestamp_x','prev_tx_pos','txid','timestamp_y']]\n",
    "\n",
    "created_tx_ts=inputs.merge(transactions[['txid','timestamp']],left_on='prev_tx_id',right_on='txid')\n",
    "\n",
    "spent_tx_ts=inputs.merge(transactions[['txid','timestamp']],left_on='txid',right_on='txid')\n",
    "\n",
    "average_utxo_dt=pd.DataFrame()\n",
    "\n",
    "average_utxo_dt['deltatime']=pd.to_timedelta(spent_tx_ts['timestamp']-created_tx_ts['timestamp'],unit='s')\n",
    "average_utxo_dt=average_utxo_dt.groupby('deltatime',group_keys=True).apply(lambda x: len(x))\n",
    "# TODO: finish data display"
   ]
  },
  {
   "attachments": {},
   "cell_type": "markdown",
   "metadata": {},
   "source": [
    "## analisi a piacere\n"
   ]
  },
  {
   "attachments": {},
   "cell_type": "markdown",
   "metadata": {},
   "source": [
    "## "
   ]
  },
  {
   "attachments": {},
   "cell_type": "markdown",
   "metadata": {},
   "source": [
    "# 2.2 clusterizzazione degli indirizzi di bitcoin\n"
   ]
  },
  {
   "cell_type": "code",
   "execution_count": null,
   "metadata": {},
   "outputs": [],
   "source": [
    "import networkx as nx\n",
    "\"\"\"\n",
    "considerare le transazioni che hanno un numero di input\n",
    "maggiore di 1 e associare ad uno stesso utente tutti gli indirizzi utilizzati negli input della stessa\n",
    "transazione.\n",
    "\"\"\"\n",
    "#associo ad ogni input l'output speso per  ottenere l'indirizzo corrispondente\n",
    "tx_addresses=inputs.merge(outputs,how='inner',left_on=['prev_tx_id','prev_tx_pos'],right_on=['txid','position'])[['prev_tx_id','address_id']]\n",
    "#tx_addresses=tx_addresses.merge(map)\n",
    "tx_addresses=tx_addresses.groupby(['prev_tx_id'])\n",
    "print('done 1')\n"
   ]
  },
  {
   "cell_type": "code",
   "execution_count": null,
   "metadata": {},
   "outputs": [],
   "source": [
    "g=nx.Graph()\n",
    "\n",
    "for k,group in tx_addresses:\n",
    "    if(len(group)<=1):\n",
    "        pass\n",
    "    a=group['address_id']\n",
    "    u,*v=a.to_list()\n",
    "    for _v in v:\n",
    "        g.add_edge(map.loc[u].address_id,map.loc[_v].address_id)\n",
    "print('done 2')\n",
    "nx.weakly_connected_components(g) "
   ]
  }
 ],
 "metadata": {
  "kernelspec": {
   "display_name": "Python 3",
   "language": "python",
   "name": "python3"
  },
  "language_info": {
   "codemirror_mode": {
    "name": "ipython",
    "version": 3
   },
   "file_extension": ".py",
   "mimetype": "text/x-python",
   "name": "python",
   "nbconvert_exporter": "python",
   "pygments_lexer": "ipython3",
   "version": "3.10.11"
  },
  "orig_nbformat": 4
 },
 "nbformat": 4,
 "nbformat_minor": 2
}
