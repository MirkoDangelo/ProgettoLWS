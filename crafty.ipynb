{
 "cells": [
  {
   "cell_type": "code",
   "execution_count": 1,
   "metadata": {},
   "outputs": [],
   "source": [
    "import numpy as np\n",
    "import pandas as pd\n",
    "import matplotlib.pyplot as plt\n",
    "import itertools\n",
    "inputs= pd.read_csv(\"./dataset/inputs.csv\",names=['txid','prev_tx_id','prev_tx_pos'])\n",
    "outputs = pd.read_csv(\"./dataset/outputs.csv\",names=['txid','position','address_id','amount','script_type'])\n",
    "outputs=outputs.astype({\n",
    "    'script_type':'uint8',\n",
    "})\n",
    "transactions = pd.read_csv(\"./dataset/transactions.csv\",names=['timestamp','block_id','txid','is_coinbase','fee'])\n",
    "transactions= transactions.astype({\n",
    "    'is_coinbase':'bool',\n",
    "})\n",
    "map=pd.read_csv(\"./dataset/mapAddr2Ids8708820.csv\",names=['hash','address_id'])"
   ]
  },
  {
   "attachments": {},
   "cell_type": "markdown",
   "metadata": {},
   "source": [
    "# 2.1 Analisi generali dei dati della blockchain"
   ]
  },
  {
   "attachments": {},
   "cell_type": "markdown",
   "metadata": {},
   "source": [
    "## distribuzione transazioni per blocco\n",
    "distribuzione del numero di transazioni per blocco (occupazione del blocco), nell’intero\n",
    "periodo temporale considerato"
   ]
  },
  {
   "cell_type": "code",
   "execution_count": null,
   "metadata": {},
   "outputs": [],
   "source": [
    "tx_distribution=transactions.groupby(['block_id']).count()[['timestamp']]\n",
    "res=pd.DataFrame(columns=['blocks'])\n",
    "res.index.name='value'\n",
    "for (i,g) in tx_distribution.groupby(['timestamp']):\n",
    "    res.loc[i]=len(g)\n",
    "plt.figure(figsize=(14,5))\n",
    "plt.scatter(np.log(res.index),res['blocks'],s=1)\n",
    "plt.xlabel('numero di transazioni')\n",
    "plt.ylabel('blocchi')\n",
    "\n",
    "#TODO : fix display of data\n"
   ]
  },
  {
   "attachments": {},
   "cell_type": "markdown",
   "metadata": {},
   "source": [
    "## evoluzione dell'occupazione dei blocchi nel tempo\n",
    "evoluzione dell'occupazione dei blocchi nel tempo, considerando intervalli temporali di due\n",
    "mesi.(media dell'occupazione di blocchi su archi temporali di 2 mesi)."
   ]
  },
  {
   "cell_type": "code",
   "execution_count": null,
   "metadata": {},
   "outputs": [],
   "source": [
    "from itertools import pairwise\n",
    "\n",
    "transactions['date']=pd.to_datetime(transactions['timestamp'],unit='s')\n",
    "month_transactions=[]\n",
    "month_group=transactions.groupby([transactions['date'].dt.year,transactions['date'].dt.month])\n",
    "\n",
    "average_tx=pd.DataFrame(columns=['average_tx'])\n",
    "\n",
    "for (k1,k2) in pairwise(month_group.groups.keys()):\n",
    "    months_df=pd.concat([month_group.get_group(k1),month_group.get_group(k2)])\n",
    "    y,m1=k1\n",
    "    _,m2=k2\n",
    "    average_tx.loc[str(y)+'-'+str(m1)+'/'+str(m2)]=months_df.groupby(['block_id']).count()['timestamp'].mean()\n",
    "average_tx.plot(kind='bar',figsize=(14,5))\n",
    "# TODO: fix display of data"
   ]
  },
  {
   "attachments": {},
   "cell_type": "markdown",
   "metadata": {},
   "source": [
    "## ammontare degli ultimi UTXO rimanenti\n",
    "ammontare totale degli UTXO al momento dell’ultima transazione registrata nella\n",
    "blockchain considerata."
   ]
  },
  {
   "cell_type": "code",
   "execution_count": null,
   "metadata": {},
   "outputs": [],
   "source": [
    "spent_utxos=outputs.merge(inputs,how='inner',left_on=['txid','position'],right_on=['prev_tx_id','prev_tx_pos'])\n",
    "unspent_utxos_amount=sum(outputs.amount)-sum(spent_utxos.amount)\n",
    "unspent_utxos_amount"
   ]
  },
  {
   "attachments": {},
   "cell_type": "markdown",
   "metadata": {},
   "source": [
    "## durata media di un UTXO prima di essere speso\n",
    "distribuzione degli intervalli di tempo che intercorrono tra la transazione che genera un\n",
    "valore in output (UTXO) e quella che lo consuma, per gli output spesi nel periodo\n",
    "considerato."
   ]
  },
  {
   "cell_type": "code",
   "execution_count": 24,
   "metadata": {},
   "outputs": [
    {
     "ename": "ValueError",
     "evalue": "plot kind scatter can only be used for data frames",
     "output_type": "error",
     "traceback": [
      "\u001b[1;31m---------------------------------------------------------------------------\u001b[0m",
      "\u001b[1;31mValueError\u001b[0m                                Traceback (most recent call last)",
      "Cell \u001b[1;32mIn[24], line 13\u001b[0m\n\u001b[0;32m     10\u001b[0m average_utxo_dt[\u001b[39m'\u001b[39m\u001b[39mdeltatime\u001b[39m\u001b[39m'\u001b[39m]\u001b[39m=\u001b[39mpd\u001b[39m.\u001b[39mto_timedelta(spent_tx_ts[\u001b[39m'\u001b[39m\u001b[39mtimestamp\u001b[39m\u001b[39m'\u001b[39m]\u001b[39m-\u001b[39mcreated_tx_ts[\u001b[39m'\u001b[39m\u001b[39mtimestamp\u001b[39m\u001b[39m'\u001b[39m],unit\u001b[39m=\u001b[39m\u001b[39m'\u001b[39m\u001b[39ms\u001b[39m\u001b[39m'\u001b[39m)\n\u001b[0;32m     11\u001b[0m average_utxo_dt\u001b[39m=\u001b[39maverage_utxo_dt\u001b[39m.\u001b[39mgroupby(\u001b[39m'\u001b[39m\u001b[39mdeltatime\u001b[39m\u001b[39m'\u001b[39m,group_keys\u001b[39m=\u001b[39m\u001b[39mTrue\u001b[39;00m)\u001b[39m.\u001b[39mapply(\u001b[39mlambda\u001b[39;00m x: \u001b[39mlen\u001b[39m(x))\n\u001b[1;32m---> 13\u001b[0m average_utxo_dt\u001b[39m.\u001b[39;49mplot(kind\u001b[39m=\u001b[39;49m\u001b[39m'\u001b[39;49m\u001b[39mscatter\u001b[39;49m\u001b[39m'\u001b[39;49m)\n\u001b[0;32m     14\u001b[0m \u001b[39m# TODO: finish\u001b[39;00m\n",
      "File \u001b[1;32mc:\\Users\\mirda\\AppData\\Local\\Programs\\Python\\Python310\\lib\\site-packages\\pandas\\plotting\\_core.py:922\u001b[0m, in \u001b[0;36mPlotAccessor.__call__\u001b[1;34m(self, *args, **kwargs)\u001b[0m\n\u001b[0;32m    920\u001b[0m         \u001b[39mreturn\u001b[39;00m plot_backend\u001b[39m.\u001b[39mplot(data, x\u001b[39m=\u001b[39mx, y\u001b[39m=\u001b[39my, kind\u001b[39m=\u001b[39mkind, \u001b[39m*\u001b[39m\u001b[39m*\u001b[39mkwargs)\n\u001b[0;32m    921\u001b[0m     \u001b[39melse\u001b[39;00m:\n\u001b[1;32m--> 922\u001b[0m         \u001b[39mraise\u001b[39;00m \u001b[39mValueError\u001b[39;00m(\u001b[39mf\u001b[39m\u001b[39m\"\u001b[39m\u001b[39mplot kind \u001b[39m\u001b[39m{\u001b[39;00mkind\u001b[39m}\u001b[39;00m\u001b[39m can only be used for data frames\u001b[39m\u001b[39m\"\u001b[39m)\n\u001b[0;32m    923\u001b[0m \u001b[39melif\u001b[39;00m kind \u001b[39min\u001b[39;00m \u001b[39mself\u001b[39m\u001b[39m.\u001b[39m_series_kinds:\n\u001b[0;32m    924\u001b[0m     \u001b[39mif\u001b[39;00m \u001b[39misinstance\u001b[39m(data, ABCDataFrame):\n",
      "\u001b[1;31mValueError\u001b[0m: plot kind scatter can only be used for data frames"
     ]
    }
   ],
   "source": [
    "#a=inputs.merge(transactions[['txid','timestamp']],left_on='prev_tx_id',right_on='txid')\n",
    "#a=a.merge(transactions[['txid','timestamp']],left_on='txid_x',right_on='txid')[['prev_tx_id','timestamp_x','prev_tx_pos','txid','timestamp_y']]\n",
    "\n",
    "created_tx_ts=inputs.merge(transactions[['txid','timestamp']],left_on='prev_tx_id',right_on='txid')\n",
    "\n",
    "spent_tx_ts=inputs.merge(transactions[['txid','timestamp']],left_on='txid',right_on='txid')\n",
    "\n",
    "average_utxo_dt=pd.DataFrame()\n",
    "\n",
    "average_utxo_dt['deltatime']=pd.to_timedelta(spent_tx_ts['timestamp']-created_tx_ts['timestamp'],unit='s')\n",
    "average_utxo_dt=average_utxo_dt.groupby('deltatime',group_keys=True).apply(lambda x: len(x))\n",
    "# TODO: finish data display"
   ]
  },
  {
   "attachments": {},
   "cell_type": "markdown",
   "metadata": {},
   "source": [
    "## analisi a piacere\n"
   ]
  },
  {
   "attachments": {},
   "cell_type": "markdown",
   "metadata": {},
   "source": [
    "## "
   ]
  },
  {
   "attachments": {},
   "cell_type": "markdown",
   "metadata": {},
   "source": [
    "# 2.2 clusterizzazione degli indirizzi di bitcoin\n"
   ]
  },
  {
   "cell_type": "code",
   "execution_count": 2,
   "metadata": {},
   "outputs": [
    {
     "ename": "KeyboardInterrupt",
     "evalue": "",
     "output_type": "error",
     "traceback": [
      "\u001b[1;31m---------------------------------------------------------------------------\u001b[0m",
      "\u001b[1;31mKeyboardInterrupt\u001b[0m                         Traceback (most recent call last)",
      "Cell \u001b[1;32mIn[2], line 14\u001b[0m\n\u001b[0;32m     10\u001b[0m tx_addresses\u001b[39m=\u001b[39mtx_addresses\u001b[39m.\u001b[39mgroupby([\u001b[39m'\u001b[39m\u001b[39mprev_tx_id\u001b[39m\u001b[39m'\u001b[39m])\n\u001b[0;32m     12\u001b[0m g\u001b[39m=\u001b[39mnx\u001b[39m.\u001b[39mGraph()\n\u001b[1;32m---> 14\u001b[0m \u001b[39mfor\u001b[39;00m key,group \u001b[39min\u001b[39;00m tx_addresses:\n\u001b[0;32m     15\u001b[0m     \u001b[39mif\u001b[39;00m(\u001b[39mlen\u001b[39m(group)\u001b[39m>\u001b[39m\u001b[39m1\u001b[39m):\n\u001b[0;32m     16\u001b[0m         tx_hash\u001b[39m=\u001b[39mgroup[\u001b[39m'\u001b[39m\u001b[39mhash\u001b[39m\u001b[39m'\u001b[39m]\n",
      "File \u001b[1;32mc:\\Users\\mirda\\AppData\\Local\\Programs\\Python\\Python310\\lib\\site-packages\\pandas\\core\\groupby\\groupby.py:818\u001b[0m, in \u001b[0;36m<genexpr>\u001b[1;34m(.0)\u001b[0m\n\u001b[0;32m    815\u001b[0m result \u001b[39m=\u001b[39m \u001b[39mself\u001b[39m\u001b[39m.\u001b[39mgrouper\u001b[39m.\u001b[39mget_iterator(\u001b[39mself\u001b[39m\u001b[39m.\u001b[39m_selected_obj, axis\u001b[39m=\u001b[39m\u001b[39mself\u001b[39m\u001b[39m.\u001b[39maxis)\n\u001b[0;32m    816\u001b[0m \u001b[39mif\u001b[39;00m \u001b[39misinstance\u001b[39m(keys, \u001b[39mlist\u001b[39m) \u001b[39mand\u001b[39;00m \u001b[39mlen\u001b[39m(keys) \u001b[39m==\u001b[39m \u001b[39m1\u001b[39m:\n\u001b[0;32m    817\u001b[0m     \u001b[39m# GH#42795 - when keys is a list, return tuples even when length is 1\u001b[39;00m\n\u001b[1;32m--> 818\u001b[0m     result \u001b[39m=\u001b[39m (((key,), group) \u001b[39mfor\u001b[39;00m key, group \u001b[39min\u001b[39;00m result)\n\u001b[0;32m    819\u001b[0m \u001b[39mreturn\u001b[39;00m result\n",
      "File \u001b[1;32mc:\\Users\\mirda\\AppData\\Local\\Programs\\Python\\Python310\\lib\\site-packages\\pandas\\core\\groupby\\ops.py:727\u001b[0m, in \u001b[0;36mBaseGrouper.get_iterator\u001b[1;34m(self, data, axis)\u001b[0m\n\u001b[0;32m    725\u001b[0m splitter \u001b[39m=\u001b[39m \u001b[39mself\u001b[39m\u001b[39m.\u001b[39m_get_splitter(data, axis\u001b[39m=\u001b[39maxis)\n\u001b[0;32m    726\u001b[0m keys \u001b[39m=\u001b[39m \u001b[39mself\u001b[39m\u001b[39m.\u001b[39mgroup_keys_seq\n\u001b[1;32m--> 727\u001b[0m \u001b[39myield from\u001b[39;00m \u001b[39mzip\u001b[39m(keys, splitter)\n",
      "File \u001b[1;32mc:\\Users\\mirda\\AppData\\Local\\Programs\\Python\\Python310\\lib\\site-packages\\pandas\\core\\groupby\\ops.py:1239\u001b[0m, in \u001b[0;36mDataSplitter.__iter__\u001b[1;34m(self)\u001b[0m\n\u001b[0;32m   1236\u001b[0m starts, ends \u001b[39m=\u001b[39m lib\u001b[39m.\u001b[39mgenerate_slices(\u001b[39mself\u001b[39m\u001b[39m.\u001b[39m_slabels, \u001b[39mself\u001b[39m\u001b[39m.\u001b[39mngroups)\n\u001b[0;32m   1238\u001b[0m \u001b[39mfor\u001b[39;00m start, end \u001b[39min\u001b[39;00m \u001b[39mzip\u001b[39m(starts, ends):\n\u001b[1;32m-> 1239\u001b[0m     \u001b[39myield\u001b[39;00m \u001b[39mself\u001b[39m\u001b[39m.\u001b[39m_chop(sdata, \u001b[39mslice\u001b[39m(start, end))\n",
      "\u001b[1;31mKeyboardInterrupt\u001b[0m: "
     ]
    }
   ],
   "source": [
    "import networkx as nx\n",
    "\"\"\" \n",
    "considerare le transazioni che hanno un numero di input\n",
    "maggiore di 1 e associare ad uno stesso utente tutti gli indirizzi utilizzati negli input della stessa\n",
    "transazione.\n",
    "\"\"\"\n",
    "#associo ad ogni input l'output speso per  ottenere l'indirizzo corrispondente\n",
    "tx_addresses=inputs.merge(outputs,how='inner',left_on=['prev_tx_id','prev_tx_pos'],right_on=['txid','position'])[['prev_tx_id','address_id']]\n",
    "tx_addresses=tx_addresses.merge(map)\n",
    "tx_addresses=tx_addresses.groupby(['prev_tx_id'])\n",
    "\n",
    "g=nx.Graph()\n",
    "\n",
    "for key,group in tx_addresses:\n",
    "    if(len(group)>1):\n",
    "        tx_hash=group['hash']\n",
    "        for n in tx_hash.iloc[1:]:\n",
    "            g.add_edge(tx_hash.iloc[0],n)"
   ]
  }
 ],
 "metadata": {
  "kernelspec": {
   "display_name": "Python 3",
   "language": "python",
   "name": "python3"
  },
  "language_info": {
   "codemirror_mode": {
    "name": "ipython",
    "version": 3
   },
   "file_extension": ".py",
   "mimetype": "text/x-python",
   "name": "python",
   "nbconvert_exporter": "python",
   "pygments_lexer": "ipython3",
   "version": "3.10.11"
  },
  "orig_nbformat": 4
 },
 "nbformat": 4,
 "nbformat_minor": 2
}
